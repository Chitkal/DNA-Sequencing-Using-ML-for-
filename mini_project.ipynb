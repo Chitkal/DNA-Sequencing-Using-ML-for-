{
 "cells": [
  {
   "cell_type": "code",
   "execution_count": 1,
   "id": "37799fa0",
   "metadata": {
    "scrolled": true
   },
   "outputs": [],
   "source": [
    "import numpy as np\n",
    "import pandas as pd\n",
    "import matplotlib.pyplot as plt\n",
    "%matplotlib inline"
   ]
  },
  {
   "cell_type": "code",
   "execution_count": 2,
   "id": "93b6326a",
   "metadata": {
    "scrolled": true
   },
   "outputs": [
    {
     "data": {
      "text/html": [
       "<div>\n",
       "<style scoped>\n",
       "    .dataframe tbody tr th:only-of-type {\n",
       "        vertical-align: middle;\n",
       "    }\n",
       "\n",
       "    .dataframe tbody tr th {\n",
       "        vertical-align: top;\n",
       "    }\n",
       "\n",
       "    .dataframe thead th {\n",
       "        text-align: right;\n",
       "    }\n",
       "</style>\n",
       "<table border=\"1\" class=\"dataframe\">\n",
       "  <thead>\n",
       "    <tr style=\"text-align: right;\">\n",
       "      <th></th>\n",
       "      <th>sequence</th>\n",
       "      <th>class</th>\n",
       "    </tr>\n",
       "  </thead>\n",
       "  <tbody>\n",
       "    <tr>\n",
       "      <th>0</th>\n",
       "      <td>ATGCCCCAACTAAATACTACCGTATGGCCCACCATAATTACCCCCA...</td>\n",
       "      <td>4</td>\n",
       "    </tr>\n",
       "    <tr>\n",
       "      <th>1</th>\n",
       "      <td>ATGAACGAAAATCTGTTCGCTTCATTCATTGCCCCCACAATCCTAG...</td>\n",
       "      <td>4</td>\n",
       "    </tr>\n",
       "    <tr>\n",
       "      <th>2</th>\n",
       "      <td>ATGTGTGGCATTTGGGCGCTGTTTGGCAGTGATGATTGCCTTTCTG...</td>\n",
       "      <td>3</td>\n",
       "    </tr>\n",
       "    <tr>\n",
       "      <th>3</th>\n",
       "      <td>ATGTGTGGCATTTGGGCGCTGTTTGGCAGTGATGATTGCCTTTCTG...</td>\n",
       "      <td>3</td>\n",
       "    </tr>\n",
       "    <tr>\n",
       "      <th>4</th>\n",
       "      <td>ATGCAACAGCATTTTGAATTTGAATACCAGACCAAAGTGGATGGTG...</td>\n",
       "      <td>3</td>\n",
       "    </tr>\n",
       "  </tbody>\n",
       "</table>\n",
       "</div>"
      ],
      "text/plain": [
       "                                            sequence  class\n",
       "0  ATGCCCCAACTAAATACTACCGTATGGCCCACCATAATTACCCCCA...      4\n",
       "1  ATGAACGAAAATCTGTTCGCTTCATTCATTGCCCCCACAATCCTAG...      4\n",
       "2  ATGTGTGGCATTTGGGCGCTGTTTGGCAGTGATGATTGCCTTTCTG...      3\n",
       "3  ATGTGTGGCATTTGGGCGCTGTTTGGCAGTGATGATTGCCTTTCTG...      3\n",
       "4  ATGCAACAGCATTTTGAATTTGAATACCAGACCAAAGTGGATGGTG...      3"
      ]
     },
     "execution_count": 2,
     "metadata": {},
     "output_type": "execute_result"
    }
   ],
   "source": [
    "human_data = pd.read_table('human.txt')\n",
    "human_data.head()"
   ]
  },
  {
   "cell_type": "code",
   "execution_count": 3,
   "id": "9233d71a",
   "metadata": {
    "scrolled": true
   },
   "outputs": [
    {
     "data": {
      "image/jpeg": "[encoded data removed]",
      "text/plain": [
       "<IPython.core.display.Image object>"
      ]
     },
     "execution_count": 3,
     "metadata": {},
     "output_type": "execute_result"
    }
   ],
   "source": [
    "from IPython.display import Image\n",
    "Image(\"dnaclass.jpeg\")"
   ]
  },
  {
   "cell_type": "code",
   "execution_count": 4,
   "id": "3649ff0a",
   "metadata": {},
   "outputs": [],
   "source": [
    "def getKmers(sequence, size=6):\n",
    "    return [sequence[x:x+size].lower() for x in range(len(sequence)-size+1)]"
   ]
  },
  {
   "cell_type": "code",
   "execution_count": 5,
   "id": "6b02f8de",
   "metadata": {},
   "outputs": [],
   "source": [
    "human_data['words']=human_data.apply(lambda x: getKmers(x['sequence']),axis=1)\n",
    "human_data=human_data.drop('sequence',axis=1)"
   ]
  },
  {
   "cell_type": "code",
   "execution_count": 6,
   "id": "3b73da26",
   "metadata": {},
   "outputs": [
    {
     "data": {
      "text/html": [
       "<div>\n",
       "<style scoped>\n",
       "    .dataframe tbody tr th:only-of-type {\n",
       "        vertical-align: middle;\n",
       "    }\n",
       "\n",
       "    .dataframe tbody tr th {\n",
       "        vertical-align: top;\n",
       "    }\n",
       "\n",
       "    .dataframe thead th {\n",
       "        text-align: right;\n",
       "    }\n",
       "</style>\n",
       "<table border=\"1\" class=\"dataframe\">\n",
       "  <thead>\n",
       "    <tr style=\"text-align: right;\">\n",
       "      <th></th>\n",
       "      <th>class</th>\n",
       "      <th>words</th>\n",
       "    </tr>\n",
       "  </thead>\n",
       "  <tbody>\n",
       "    <tr>\n",
       "      <th>0</th>\n",
       "      <td>4</td>\n",
       "      <td>[atgccc, tgcccc, gcccca, ccccaa, cccaac, ccaac...</td>\n",
       "    </tr>\n",
       "    <tr>\n",
       "      <th>1</th>\n",
       "      <td>4</td>\n",
       "      <td>[atgaac, tgaacg, gaacga, aacgaa, acgaaa, cgaaa...</td>\n",
       "    </tr>\n",
       "    <tr>\n",
       "      <th>2</th>\n",
       "      <td>3</td>\n",
       "      <td>[atgtgt, tgtgtg, gtgtgg, tgtggc, gtggca, tggca...</td>\n",
       "    </tr>\n",
       "    <tr>\n",
       "      <th>3</th>\n",
       "      <td>3</td>\n",
       "      <td>[atgtgt, tgtgtg, gtgtgg, tgtggc, gtggca, tggca...</td>\n",
       "    </tr>\n",
       "    <tr>\n",
       "      <th>4</th>\n",
       "      <td>3</td>\n",
       "      <td>[atgcaa, tgcaac, gcaaca, caacag, aacagc, acagc...</td>\n",
       "    </tr>\n",
       "  </tbody>\n",
       "</table>\n",
       "</div>"
      ],
      "text/plain": [
       "   class                                              words\n",
       "0      4  [atgccc, tgcccc, gcccca, ccccaa, cccaac, ccaac...\n",
       "1      4  [atgaac, tgaacg, gaacga, aacgaa, acgaaa, cgaaa...\n",
       "2      3  [atgtgt, tgtgtg, gtgtgg, tgtggc, gtggca, tggca...\n",
       "3      3  [atgtgt, tgtgtg, gtgtgg, tgtggc, gtggca, tggca...\n",
       "4      3  [atgcaa, tgcaac, gcaaca, caacag, aacagc, acagc..."
      ]
     },
     "execution_count": 6,
     "metadata": {},
     "output_type": "execute_result"
    }
   ],
   "source": [
    "human_data.head()"
   ]
  },
  {
   "cell_type": "code",
   "execution_count": 7,
   "id": "593d6e0b",
   "metadata": {},
   "outputs": [],
   "source": [
    "human_texts=list(human_data['words'])\n",
    "for item in range(len(human_texts)):\n",
    "    human_texts[item]=' '.join(human_texts[item])\n",
    "y_data=human_data.iloc[:, 0].values"
   ]
  },
  {
   "cell_type": "code",
   "execution_count": 8,
   "id": "a72257f3",
   "metadata": {},
   "outputs": [
    {
     "name": "stdout",
     "output_type": "stream",
     "text": [
      "atgccc tgcccc gcccca ccccaa cccaac ccaact caacta aactaa actaaa ctaaat taaata aaatac aatact atacta tactac actacc ctaccg taccgt accgta ccgtat cgtatg gtatgg tatggc atggcc tggccc ggccca gcccac cccacc ccacca caccat accata ccataa cataat ataatt taatta aattac attacc ttaccc tacccc accccc ccccca ccccat cccata ccatac catact atactc tactcc actcct ctcctt tcctta ccttac cttaca ttacac tacact acacta cactat actatt ctattc tattcc attcct ttcctc tcctca cctcat ctcatc tcatca catcac atcacc tcaccc caccca acccaa cccaac ccaact caacta aactaa actaaa ctaaaa taaaaa aaaaat aaaata aaatat aatatt atatta tattaa attaaa ttaaac taaaca aaacac aacaca acacaa cacaaa acaaac caaact aaacta aactac actacc ctacca taccac accacc ccacct caccta acctac cctacc ctacct tacctc acctcc cctccc ctccct tccctc ccctca cctcac ctcacc tcacca caccaa accaaa ccaaag caaagc aaagcc aagccc agccca gcccat cccata ccataa cataaa ataaaa taaaaa aaaaat aaaata aaataa aataaa ataaaa taaaaa aaaaaa aaaaat aaaatt aaatta aattat attata ttataa tataac ataaca taacaa aacaaa acaaac caaacc aaaccc aaccct accctg ccctga cctgag ctgaga tgagaa gagaac agaacc gaacca aaccaa accaaa ccaaaa caaaat aaaatg aaatga aatgaa atgaac tgaacg gaacga aacgaa acgaaa cgaaaa gaaaat aaaatc aaatct aatctg atctgt tctgtt ctgttc tgttcg gttcgc ttcgct tcgctt cgcttc gcttca cttcat ttcatt tcattc cattca attcat ttcatt tcattg cattgc attgcc ttgccc tgcccc gccccc ccccca ccccac cccaca ccacaa cacaat acaatc caatcc aatcct atccta tcctag\n"
     ]
    }
   ],
   "source": [
    "print(human_texts[0])"
   ]
  },
  {
   "cell_type": "code",
   "execution_count": 9,
   "id": "9f34dab1",
   "metadata": {},
   "outputs": [
    {
     "data": {
      "text/plain": [
       "array([4, 4, 3, ..., 6, 6, 6], dtype=int64)"
      ]
     },
     "execution_count": 9,
     "metadata": {},
     "output_type": "execute_result"
    }
   ],
   "source": [
    "y_data"
   ]
  },
  {
   "cell_type": "code",
   "execution_count": 10,
   "id": "61e1ca6b",
   "metadata": {},
   "outputs": [],
   "source": [
    "from sklearn.feature_extraction.text import CountVectorizer\n",
    "cv=CountVectorizer(ngram_range=(4,4))\n",
    "X=cv.fit_transform(human_texts)"
   ]
  },
  {
   "cell_type": "code",
   "execution_count": 11,
   "id": "227d3fd3",
   "metadata": {},
   "outputs": [
    {
     "name": "stdout",
     "output_type": "stream",
     "text": [
      "(4380, 232414)\n"
     ]
    }
   ],
   "source": [
    "print(X.shape)"
   ]
  },
  {
   "cell_type": "code",
   "execution_count": 12,
   "id": "6723be7b",
   "metadata": {},
   "outputs": [
    {
     "data": {
      "text/plain": [
       "<4380x232414 sparse matrix of type '<class 'numpy.int64'>'\n",
       "\twith 5406441 stored elements in Compressed Sparse Row format>"
      ]
     },
     "execution_count": 12,
     "metadata": {},
     "output_type": "execute_result"
    }
   ],
   "source": [
    "X"
   ]
  },
  {
   "cell_type": "code",
   "execution_count": 13,
   "id": "cfe533d6",
   "metadata": {},
   "outputs": [
    {
     "data": {
      "text/plain": [
       "<Axes: >"
      ]
     },
     "execution_count": 13,
     "metadata": {},
     "output_type": "execute_result"
    },
    {
     "data": {
      "image/png": "[encoded data removed]",
      "text/plain": [
       "<Figure size 640x480 with 1 Axes>"
      ]
     },
     "metadata": {},
     "output_type": "display_data"
    }
   ],
   "source": [
    "human_data['class'].value_counts().sort_index().plot.bar()"
   ]
  },
  {
   "cell_type": "code",
   "execution_count": 14,
   "id": "29a92589",
   "metadata": {},
   "outputs": [],
   "source": [
    "from sklearn.model_selection import train_test_split\n",
    "X_train, X_test, y_train, y_test = train_test_split(X, y_data, test_size = 0.20, random_state=42)"
   ]
  },
  {
   "cell_type": "code",
   "execution_count": 15,
   "id": "8ec61202",
   "metadata": {},
   "outputs": [
    {
     "name": "stdout",
     "output_type": "stream",
     "text": [
      "(3504, 232414)\n",
      "(876, 232414)\n"
     ]
    }
   ],
   "source": [
    "print(X_train.shape)\n",
    "print(X_test.shape)"
   ]
  },
  {
   "cell_type": "code",
   "execution_count": 16,
   "id": "ae144c12",
   "metadata": {},
   "outputs": [
    {
     "data": {
      "text/html": [
       "<style>#sk-container-id-1 {color: black;background-color: white;}#sk-container-id-1 pre{padding: 0;}#sk-container-id-1 div.sk-toggleable {background-color: white;}#sk-container-id-1 label.sk-toggleable__label {cursor: pointer;display: block;width: 100%;margin-bottom: 0;padding: 0.3em;box-sizing: border-box;text-align: center;}#sk-container-id-1 label.sk-toggleable__label-arrow:before {content: \"▸\";float: left;margin-right: 0.25em;color: #696969;}#sk-container-id-1 label.sk-toggleable__label-arrow:hover:before {color: black;}#sk-container-id-1 div.sk-estimator:hover label.sk-toggleable__label-arrow:before {color: black;}#sk-container-id-1 div.sk-toggleable__content {max-height: 0;max-width: 0;overflow: hidden;text-align: left;background-color: #f0f8ff;}#sk-container-id-1 div.sk-toggleable__content pre {margin: 0.2em;color: black;border-radius: 0.25em;background-color: #f0f8ff;}#sk-container-id-1 input.sk-toggleable__control:checked~div.sk-toggleable__content {max-height: 200px;max-width: 100%;overflow: auto;}#sk-container-id-1 input.sk-toggleable__control:checked~label.sk-toggleable__label-arrow:before {content: \"▾\";}#sk-container-id-1 div.sk-estimator input.sk-toggleable__control:checked~label.sk-toggleable__label {background-color: #d4ebff;}#sk-container-id-1 div.sk-label input.sk-toggleable__control:checked~label.sk-toggleable__label {background-color: #d4ebff;}#sk-container-id-1 input.sk-hidden--visually {border: 0;clip: rect(1px 1px 1px 1px);clip: rect(1px, 1px, 1px, 1px);height: 1px;margin: -1px;overflow: hidden;padding: 0;position: absolute;width: 1px;}#sk-container-id-1 div.sk-estimator {font-family: monospace;background-color: #f0f8ff;border: 1px dotted black;border-radius: 0.25em;box-sizing: border-box;margin-bottom: 0.5em;}#sk-container-id-1 div.sk-estimator:hover {background-color: #d4ebff;}#sk-container-id-1 div.sk-parallel-item::after {content: \"\";width: 100%;border-bottom: 1px solid gray;flex-grow: 1;}#sk-container-id-1 div.sk-label:hover label.sk-toggleable__label {background-color: #d4ebff;}#sk-container-id-1 div.sk-serial::before {content: \"\";position: absolute;border-left: 1px solid gray;box-sizing: border-box;top: 0;bottom: 0;left: 50%;z-index: 0;}#sk-container-id-1 div.sk-serial {display: flex;flex-direction: column;align-items: center;background-color: white;padding-right: 0.2em;padding-left: 0.2em;position: relative;}#sk-container-id-1 div.sk-item {position: relative;z-index: 1;}#sk-container-id-1 div.sk-parallel {display: flex;align-items: stretch;justify-content: center;background-color: white;position: relative;}#sk-container-id-1 div.sk-item::before, #sk-container-id-1 div.sk-parallel-item::before {content: \"\";position: absolute;border-left: 1px solid gray;box-sizing: border-box;top: 0;bottom: 0;left: 50%;z-index: -1;}#sk-container-id-1 div.sk-parallel-item {display: flex;flex-direction: column;z-index: 1;position: relative;background-color: white;}#sk-container-id-1 div.sk-parallel-item:first-child::after {align-self: flex-end;width: 50%;}#sk-container-id-1 div.sk-parallel-item:last-child::after {align-self: flex-start;width: 50%;}#sk-container-id-1 div.sk-parallel-item:only-child::after {width: 0;}#sk-container-id-1 div.sk-dashed-wrapped {border: 1px dashed gray;margin: 0 0.4em 0.5em 0.4em;box-sizing: border-box;padding-bottom: 0.4em;background-color: white;}#sk-container-id-1 div.sk-label label {font-family: monospace;font-weight: bold;display: inline-block;line-height: 1.2em;}#sk-container-id-1 div.sk-label-container {text-align: center;}#sk-container-id-1 div.sk-container {/* jupyter's `normalize.less` sets `[hidden] { display: none; }` but bootstrap.min.css set `[hidden] { display: none !important; }` so we also need the `!important` here to be able to override the default hidden behavior on the sphinx rendered scikit-learn.org. See: https://github.com/scikit-learn/scikit-learn/issues/21755 */display: inline-block !important;position: relative;}#sk-container-id-1 div.sk-text-repr-fallback {display: none;}</style><div id=\"sk-container-id-1\" class=\"sk-top-container\"><div class=\"sk-text-repr-fallback\"><pre>MultinomialNB(alpha=0.2)</pre><b>In a Jupyter environment, please rerun this cell to show the HTML representation or trust the notebook. <br />On GitHub, the HTML representation is unable to render, please try loading this page with nbviewer.org.</b></div><div class=\"sk-container\" hidden><div class=\"sk-item\"><div class=\"sk-estimator sk-toggleable\"><input class=\"sk-toggleable__control sk-hidden--visually\" id=\"sk-estimator-id-1\" type=\"checkbox\" checked><label for=\"sk-estimator-id-1\" class=\"sk-toggleable__label sk-toggleable__label-arrow\">MultinomialNB</label><div class=\"sk-toggleable__content\"><pre>MultinomialNB(alpha=0.2)</pre></div></div></div></div></div>"
      ],
      "text/plain": [
       "MultinomialNB(alpha=0.2)"
      ]
     },
     "execution_count": 16,
     "metadata": {},
     "output_type": "execute_result"
    }
   ],
   "source": [
    "from sklearn.naive_bayes import MultinomialNB\n",
    "classifier=MultinomialNB(alpha=0.2)\n",
    "classifier.fit(X_train,y_train)"
   ]
  },
  {
   "cell_type": "code",
   "execution_count": 17,
   "id": "54eebebe",
   "metadata": {},
   "outputs": [],
   "source": [
    "y_pred=classifier.predict(X_test)"
   ]
  },
  {
   "cell_type": "code",
   "execution_count": 18,
   "id": "c672b644",
   "metadata": {},
   "outputs": [
    {
     "name": "stdout",
     "output_type": "stream",
     "text": [
      "Confusion Matrix\n",
      "\n",
      "Predicted    0    1   2    3    4   5    6\n",
      "Actual                                    \n",
      "0          100    0   0    0    1   0    1\n",
      "1            0  104   0    0    0   0    2\n",
      "2            0    0  78    0    0   0    0\n",
      "3            0    0   0  124    1   0    0\n",
      "4            1    0   0    0  145   0    3\n",
      "5            0    0   0    0    0  51    0\n",
      "6            1    0   0    1    0   0  263\n",
      "accuracy = 0.987 \n",
      "precision = 0.988 \n",
      "recall = 0.987 \n",
      "f1 = 0.987\n"
     ]
    }
   ],
   "source": [
    "from sklearn.metrics import accuracy_score, f1_score, precision_score, recall_score\n",
    "print(\"Confusion Matrix\\n\")\n",
    "print(pd.crosstab(pd.Series(y_test, name='Actual'), pd.Series(y_pred, name='Predicted')))\n",
    "def get_metrics(y_test, y_predicted):\n",
    "    accuracy = accuracy_score(y_test, y_predicted)\n",
    "    precision = precision_score(y_test, y_predicted, average='weighted')\n",
    "    recall = recall_score(y_test, y_predicted, average='weighted')\n",
    "    f1 = f1_score(y_test, y_predicted, average='weighted')\n",
    "    return accuracy, precision, recall, f1\n",
    "accuracy, precision, recall, f1 = get_metrics(y_test, y_pred)\n",
    "print(\"accuracy = %.3f \\nprecision = %.3f \\nrecall = %.3f \\nf1 = %.3f\"%(accuracy,precision,recall,f1))"
   ]
  },
  {
   "cell_type": "code",
   "execution_count": 19,
   "id": "719e57a4",
   "metadata": {},
   "outputs": [
    {
     "data": {
      "image/png": "[encoded data removed]",
      "text/plain": [
       "<Figure size 640x480 with 1 Axes>"
      ]
     },
     "metadata": {},
     "output_type": "display_data"
    }
   ],
   "source": [
    "import matplotlib.pyplot as plt\n",
    "\n",
    "accuracy_values = [accuracy]\n",
    "labels = ['Accuracy']\n",
    "\n",
    "plt.bar(labels, accuracy_values)\n",
    "plt.xlabel('Metrics')\n",
    "plt.ylabel('Accuracy')\n",
    "plt.title('Accuracy Comparison')\n",
    "plt.ylim([0, 1])  # Set the y-axis limits between 0 and 1\n",
    "plt.show()"
   ]
  },
  {
   "cell_type": "code",
   "execution_count": 20,
   "id": "9ef8c198",
   "metadata": {},
   "outputs": [
    {
     "data": {
      "text/html": [
       "<div>\n",
       "<style scoped>\n",
       "    .dataframe tbody tr th:only-of-type {\n",
       "        vertical-align: middle;\n",
       "    }\n",
       "\n",
       "    .dataframe tbody tr th {\n",
       "        vertical-align: top;\n",
       "    }\n",
       "\n",
       "    .dataframe thead th {\n",
       "        text-align: right;\n",
       "    }\n",
       "</style>\n",
       "<table border=\"1\" class=\"dataframe\">\n",
       "  <thead>\n",
       "    <tr style=\"text-align: right;\">\n",
       "      <th></th>\n",
       "      <th>Password</th>\n",
       "      <th>DNA</th>\n",
       "    </tr>\n",
       "  </thead>\n",
       "  <tbody>\n",
       "    <tr>\n",
       "      <th>0</th>\n",
       "      <td>panda</td>\n",
       "      <td>TGTTCGACTTGAATGGTACAGAAT</td>\n",
       "    </tr>\n",
       "    <tr>\n",
       "      <th>1</th>\n",
       "      <td>Horny</td>\n",
       "      <td>TAATGATTTGATAATAAAGAGGGT</td>\n",
       "    </tr>\n",
       "    <tr>\n",
       "      <th>2</th>\n",
       "      <td>bbbb</td>\n",
       "      <td>TGGAGGCATGCCACGCAG</td>\n",
       "    </tr>\n",
       "    <tr>\n",
       "      <th>3</th>\n",
       "      <td>spike</td>\n",
       "      <td>TGGAGGATTTACCACCAGAGGTCT</td>\n",
       "    </tr>\n",
       "    <tr>\n",
       "      <th>4</th>\n",
       "      <td>drum</td>\n",
       "      <td>TCAAAGCCAACCTTCCTT</td>\n",
       "    </tr>\n",
       "  </tbody>\n",
       "</table>\n",
       "</div>"
      ],
      "text/plain": [
       "  Password                       DNA\n",
       "0    panda  TGTTCGACTTGAATGGTACAGAAT\n",
       "1    Horny  TAATGATTTGATAATAAAGAGGGT\n",
       "2     bbbb        TGGAGGCATGCCACGCAG\n",
       "3    spike  TGGAGGATTTACCACCAGAGGTCT\n",
       "4     drum        TCAAAGCCAACCTTCCTT"
      ]
     },
     "execution_count": 20,
     "metadata": {},
     "output_type": "execute_result"
    }
   ],
   "source": [
    "dna_df = pd.read_csv('password1_dataframe.csv')\n",
    "dna_df.head()"
   ]
  },
  {
   "cell_type": "code",
   "execution_count": 21,
   "id": "1eb2d335",
   "metadata": {},
   "outputs": [
    {
     "data": {
      "text/plain": [
       "1000"
      ]
     },
     "execution_count": 21,
     "metadata": {},
     "output_type": "execute_result"
    }
   ],
   "source": [
    "len(dna_df)"
   ]
  },
  {
   "cell_type": "code",
   "execution_count": 22,
   "id": "069b83fe",
   "metadata": {},
   "outputs": [],
   "source": [
    "listex = list(dna_df.iloc[:,1])\n",
    "listex2 = list(dna_df.iloc[:,0])"
   ]
  },
  {
   "cell_type": "code",
   "execution_count": 23,
   "id": "8d14881a",
   "metadata": {},
   "outputs": [],
   "source": [
    "#A=00 T=01 G=10 C=11\n",
    "def replace_with_binary_list(string_list):\n",
    "    binary_list = []\n",
    "    for text in string_list:\n",
    "        binary_text = \"\"\n",
    "        for char in text:\n",
    "            if char.isalpha():\n",
    "                if char == \"A\":\n",
    "                    binary_text += \"00\"\n",
    "                elif char == \"T\":\n",
    "                    binary_text += \"01\"\n",
    "                elif char == \"G\":\n",
    "                    binary_text += \"10\"\n",
    "                elif char == \"C\":\n",
    "                    binary_text += \"11\"\n",
    "            else:\n",
    "                binary_text += char\n",
    "        binary_list.append(binary_text)\n",
    "    return binary_list"
   ]
  },
  {
   "cell_type": "code",
   "execution_count": 24,
   "id": "59f5d62c",
   "metadata": {},
   "outputs": [],
   "source": [
    "item=replace_with_binary_list(listex)"
   ]
  },
  {
   "cell_type": "code",
   "execution_count": 25,
   "id": "ac279401",
   "metadata": {
    "scrolled": true
   },
   "outputs": [
    {
     "data": {
      "text/plain": [
       "'011001011110001101011000000110100100110010000001'"
      ]
     },
     "execution_count": 25,
     "metadata": {},
     "output_type": "execute_result"
    }
   ],
   "source": [
    "item[0]"
   ]
  },
  {
   "cell_type": "code",
   "execution_count": 26,
   "id": "95504ef2",
   "metadata": {},
   "outputs": [
    {
     "data": {
      "text/plain": [
       "112027110100097"
      ]
     },
     "execution_count": 26,
     "metadata": {},
     "output_type": "execute_result"
    }
   ],
   "source": [
    "integer_list = [int(binary, 2) for binary in item]\n",
    "integer_list[0]"
   ]
  },
  {
   "cell_type": "code",
   "execution_count": 27,
   "id": "4e766ba1",
   "metadata": {},
   "outputs": [],
   "source": [
    "def replace_with_ascii_list(string_list):\n",
    "    ascii_list = []\n",
    "    for text in string_list:\n",
    "        ascii_text = \"\"\n",
    "        for char in text:\n",
    "            if char.isalpha() or not char.isdigit():\n",
    "                ascii_value = str(ord(char)).zfill(3)\n",
    "                ascii_text += ascii_value\n",
    "        ascii_list.append(ascii_text)\n",
    "    return ascii_list"
   ]
  },
  {
   "cell_type": "code",
   "execution_count": 28,
   "id": "89f1b68d",
   "metadata": {},
   "outputs": [],
   "source": [
    "item3=replace_with_ascii_list(listex2)"
   ]
  },
  {
   "cell_type": "code",
   "execution_count": 29,
   "id": "10396c4f",
   "metadata": {},
   "outputs": [
    {
     "data": {
      "text/plain": [
       "'112097110100097'"
      ]
     },
     "execution_count": 29,
     "metadata": {},
     "output_type": "execute_result"
    }
   ],
   "source": [
    "item3[0]"
   ]
  },
  {
   "cell_type": "code",
   "execution_count": 30,
   "id": "3b6b5c1a",
   "metadata": {},
   "outputs": [],
   "source": [
    "def convert_to_int_list(string_list):\n",
    "    int_list = []\n",
    "    for text in string_list:\n",
    "        try:\n",
    "            converted_value = int(text)\n",
    "            int_list.append(converted_value)\n",
    "        except ValueError:\n",
    "            int_list.append(0) \n",
    "    return int_list"
   ]
  },
  {
   "cell_type": "code",
   "execution_count": 31,
   "id": "359d8928",
   "metadata": {},
   "outputs": [
    {
     "data": {
      "text/plain": [
       "112097110100097"
      ]
     },
     "execution_count": 31,
     "metadata": {},
     "output_type": "execute_result"
    }
   ],
   "source": [
    "b2=convert_to_int_list(item3)\n",
    "b2[0]"
   ]
  },
  {
   "cell_type": "code",
   "execution_count": 32,
   "id": "2d37afe9",
   "metadata": {},
   "outputs": [],
   "source": [
    "float_decimal_list = [float(num) for num in integer_list]\n",
    "float_updated_list = [float(num) for num in b2]"
   ]
  },
  {
   "cell_type": "code",
   "execution_count": 33,
   "id": "df40c361",
   "metadata": {},
   "outputs": [],
   "source": [
    "is_inf_decimal_list = np.isinf(float_decimal_list)\n",
    "if np.any(is_inf_decimal_list):\n",
    "    print(\"Infinity values found in float_decimal_list.\")\n",
    "\n",
    "is_inf_updated_list = np.isinf(float_updated_list)\n",
    "if np.any(is_inf_updated_list):\n",
    "    print(\"Infinity values found in float_updated_list.\")"
   ]
  },
  {
   "cell_type": "code",
   "execution_count": 34,
   "id": "535c585f",
   "metadata": {},
   "outputs": [],
   "source": [
    "from sklearn.preprocessing import StandardScaler\n",
    "\n",
    "scaler = StandardScaler()\n",
    "feature1_scaled = scaler.fit_transform(np.array(float_updated_list).reshape(-1, 1))\n",
    "feature2_scaled = scaler.fit_transform(np.array(float_decimal_list).reshape(-1, 1))"
   ]
  },
  {
   "cell_type": "code",
   "execution_count": 35,
   "id": "198fba0b",
   "metadata": {},
   "outputs": [
    {
     "name": "stdout",
     "output_type": "stream",
     "text": [
      "R-squared score: 0.9999999981902419\n"
     ]
    }
   ],
   "source": [
    "from sklearn.linear_model import LinearRegression\n",
    "\n",
    "regression_model = LinearRegression()\n",
    "regression_model.fit(feature1_scaled, feature2_scaled)\n",
    "\n",
    "# Calculate R-squared score\n",
    "r2_score = regression_model.score(feature1_scaled, feature2_scaled)\n",
    "print(\"R-squared score:\", r2_score)"
   ]
  },
  {
   "cell_type": "code",
   "execution_count": 36,
   "id": "ce1c6b80",
   "metadata": {},
   "outputs": [
    {
     "name": "stdout",
     "output_type": "stream",
     "text": [
      "Mean Squared Error (MSE): 1.8097580792084726e-09\n",
      "Root Mean Squared Error (RMSE): 4.254125150026116e-05\n"
     ]
    }
   ],
   "source": [
    "from sklearn.metrics import mean_squared_error\n",
    "import math\n",
    "\n",
    "# Make predictions\n",
    "predicted_values = regression_model.predict(feature1_scaled)\n",
    "\n",
    "# Calculate Mean Squared Error (MSE)\n",
    "mse = mean_squared_error(feature2_scaled, predicted_values)\n",
    "\n",
    "# Calculate Root Mean Squared Error (RMSE)\n",
    "rmse = math.sqrt(mse)\n",
    "\n",
    "print(\"Mean Squared Error (MSE):\", mse)\n",
    "print(\"Root Mean Squared Error (RMSE):\", rmse)"
   ]
  },
  {
   "cell_type": "code",
   "execution_count": 37,
   "id": "d82f6ded",
   "metadata": {},
   "outputs": [
    {
     "data": {
      "image/png": "[encoded data removed]",
      "text/plain": [
       "<Figure size 640x480 with 1 Axes>"
      ]
     },
     "metadata": {},
     "output_type": "display_data"
    }
   ],
   "source": [
    "import numpy as np\n",
    "import matplotlib.pyplot as plt\n",
    "\n",
    "# Plot scatter plot\n",
    "plt.scatter(feature1_scaled, feature2_scaled, color='blue', label='Data')\n",
    "\n",
    "# Predict using the trained regression model\n",
    "predicted_feature2 = regression_model.predict(feature1_scaled)\n",
    "\n",
    "# Plot regression line\n",
    "plt.plot(feature1_scaled, predicted_feature2, color='red', linewidth=2, label='Regression Line')\n",
    "\n",
    "plt.xlabel('Feature 1')\n",
    "plt.ylabel('Feature 2')\n",
    "plt.title('Linear Regression')\n",
    "plt.legend()\n",
    "plt.show()"
   ]
  },
  {
   "cell_type": "code",
   "execution_count": 38,
   "id": "c1362ab7",
   "metadata": {},
   "outputs": [
    {
     "name": "stdout",
     "output_type": "stream",
     "text": [
      "Coefficient: [[1.]]\n",
      "\n",
      "Intercept: [2.18491891e-16]\n"
     ]
    }
   ],
   "source": [
    "coefficients = regression_model.coef_\n",
    "intercepts = regression_model.intercept_\n",
    "print(\"Coefficient:\", coefficients)\n",
    "print(\"\\nIntercept:\", intercepts)"
   ]
  },
  {
   "cell_type": "code",
   "execution_count": 39,
   "id": "df9886a9",
   "metadata": {},
   "outputs": [],
   "source": [
    "def my_A(text):\n",
    "    ascii_text = \"\"\n",
    "    for char in text:\n",
    "        ascii_value = str(ord(char)).zfill(3)\n",
    "        ascii_text += ascii_value\n",
    "    return ascii_text\n",
    "\n",
    "def predict(p_data):\n",
    "    pred_value = regression_model.predict(p_data)\n",
    "    return pred_value\n",
    "\n",
    "def from_ascii_list(ascii_list):\n",
    "    string_text = \"\"\n",
    "    for ascii_value in ascii_list:\n",
    "        char = chr(ascii_value)\n",
    "        string_text += char\n",
    "    return string_text\n",
    "\n",
    "def replace_with_dna(text): \n",
    "    dna_text = \"\"\n",
    "    i = 0\n",
    "    while i < len(text):\n",
    "        chunk = text[i:i+2]\n",
    "        if chunk == \"00\":\n",
    "            dna_text += \"A\"\n",
    "        elif chunk == \"01\":\n",
    "            dna_text += \"T\"\n",
    "        elif chunk == \"10\":\n",
    "            dna_text += \"G\"\n",
    "        elif chunk == \"11\":\n",
    "            dna_text += \"C\"\n",
    "        i += 2\n",
    "    return dna_text\n",
    "\n",
    "def vectorize_s(mydna):\n",
    "    dna_texts = getKmers(mydna)\n",
    "    hdna_texts = ' '.join(dna_texts)\n",
    "    Xz = cv.transform([hdna_texts])\n",
    "    return Xz\n",
    "\n",
    "def encrypt_password(password_list):\n",
    "    new_list = []\n",
    "    for password in password_list:\n",
    "        ascii_text = my_A(password)\n",
    "        ascii_text = int(ascii_text)\n",
    "        ascii_text = np.array(ascii_text).reshape(-1, 1)# Convert to 2D array\n",
    "\n",
    "        predicted_y = predict(ascii_text)\n",
    "        predicted_scalar = predicted_y.item()  # Get scalar value from NumPy array\n",
    "\n",
    "        number_str = str(predicted_scalar)\n",
    "        float_number = float(number_str)\n",
    "        integer_number = int(float_number)\n",
    "\n",
    "        bin_number = bin(integer_number)[2:]\n",
    "\n",
    "        if len(bin_number) % 2 != 0:\n",
    "            bin_number = \"0\" + bin_number\n",
    "\n",
    "        dna_code = replace_with_dna(bin_number)\n",
    "        vector_ = vectorize_s(dna_code)\n",
    "        class_pred = classifier.predict(vector_)\n",
    "        class_label = str(class_pred)\n",
    "        new_list.append(dna_code)\n",
    "\n",
    "    return new_list\n",
    "    \n",
    "import math\n",
    "import decimal\n",
    "\n",
    "def decrypt_dna(new_list):\n",
    "    some_list = []\n",
    "    for dna_code in new_list:\n",
    "        binary_text = \"\"\n",
    "        for char in dna_code:\n",
    "            if char == \"A\":\n",
    "                binary_text += \"00\"\n",
    "            elif char == \"T\":\n",
    "                binary_text += \"01\"\n",
    "            elif char == \"G\":\n",
    "                binary_text += \"10\"\n",
    "            elif char == \"C\":\n",
    "                binary_text += \"11\"\n",
    "    \n",
    "        integer_number = int(binary_text, 2)\n",
    "        decimal.getcontext().prec = 100  # Set the precision\n",
    "        decimal_number = decimal.Decimal(integer_number)\n",
    "        coef_decimal = decimal.Decimal(regression_model.coef_.item())\n",
    "        intercept_decimal = decimal.Decimal(regression_model.intercept_.item())\n",
    "        inp_decimal = (decimal_number - intercept_decimal) / coef_decimal\n",
    "        inp_decimal = math.ceil(inp_decimal)\n",
    "    \n",
    "        ascii_text = str(inp_decimal)\n",
    "        # Pad the string with leading zeros if needed\n",
    "        while len(ascii_text) % 3 != 0:\n",
    "            ascii_text = '0' + ascii_text\n",
    "\n",
    "        # Split the string into groups of three digits and reverse each group\n",
    "        reversed_str = ascii_text[::-1]\n",
    "\n",
    "        # Pad the string with leading zeros if the length is not divisible by 3\n",
    "        while len(reversed_str) % 3 != 0:\n",
    "            reversed_str += '0'\n",
    "\n",
    "        # Split the string into groups of three digits and reverse each group\n",
    "        groups = [int(reversed_str[i:i+3][::-1]) for i in range(0, len(reversed_str), 3)]\n",
    "\n",
    "        groups.reverse()\n",
    "        original_text = from_ascii_list(groups)\n",
    "        some_list.append(original_text)\n",
    "    return some_list"
   ]
  },
  {
   "cell_type": "code",
   "execution_count": 40,
   "id": "0995a9c7",
   "metadata": {},
   "outputs": [],
   "source": [
    "free_list = encrypt_password(listex2)"
   ]
  },
  {
   "cell_type": "code",
   "execution_count": 41,
   "id": "acfa195d",
   "metadata": {},
   "outputs": [
    {
     "name": "stdout",
     "output_type": "stream",
     "text": [
      "Accuracy of decryption:  99.8 %\n"
     ]
    }
   ],
   "source": [
    "c=0\n",
    "free1_list = decrypt_dna(free_list)\n",
    "for i in range(len(listex2)):\n",
    "    if listex2[i] == free1_list[i]:\n",
    "        c = c + 1\n",
    "print(\"Accuracy of decryption: \",c/10,\"%\")"
   ]
  },
  {
   "cell_type": "code",
   "execution_count": 42,
   "id": "3f98c6f6",
   "metadata": {},
   "outputs": [],
   "source": [
    "import tkinter as tk\n",
    "\n",
    "def my_A(text):\n",
    "    ascii_text = \"\"\n",
    "    for char in text:\n",
    "        ascii_value = str(ord(char)).zfill(3)\n",
    "        ascii_text += ascii_value\n",
    "    return ascii_text\n",
    "\n",
    "def predict(p_data):\n",
    "    pred_value = regression_model.predict(p_data)\n",
    "    return pred_value\n",
    "\n",
    "def from_ascii_list(ascii_list):\n",
    "    string_text = \"\"\n",
    "    for ascii_value in ascii_list:\n",
    "        char = chr(ascii_value)\n",
    "        string_text += char\n",
    "    return string_text\n",
    "\n",
    "def replace_with_dna(text): \n",
    "    dna_text = \"\"\n",
    "    i = 0\n",
    "    while i < len(text):\n",
    "        chunk = text[i:i+2]\n",
    "        if chunk == \"00\":\n",
    "            dna_text += \"A\"\n",
    "        elif chunk == \"01\":\n",
    "            dna_text += \"T\"\n",
    "        elif chunk == \"10\":\n",
    "            dna_text += \"G\"\n",
    "        elif chunk == \"11\":\n",
    "            dna_text += \"C\"\n",
    "        i += 2\n",
    "    return dna_text\n",
    "\n",
    "def vectorize_s(mydna):\n",
    "    dna_texts = getKmers(mydna)\n",
    "    hdna_texts = ' '.join(dna_texts)\n",
    "    Xz = cv.transform([hdna_texts])\n",
    "    return Xz\n",
    "\n",
    "def encrypt_password():\n",
    "    password = password_entry.get()\n",
    "    ascii_text = my_A(password)\n",
    "    ascii_text = int(ascii_text)\n",
    "    ascii_text = np.array(ascii_text).reshape(-1, 1)# Convert to 2D array\n",
    "\n",
    "    predicted_y = predict(ascii_text)\n",
    "    predicted_scalar = predicted_y.item()  # Get scalar value from NumPy array\n",
    "\n",
    "    number_str = str(predicted_scalar)\n",
    "    float_number = float(number_str)\n",
    "    integer_number = int(float_number)\n",
    "\n",
    "    bin_number = bin(integer_number)[2:]\n",
    "\n",
    "    if len(bin_number) % 2 != 0:\n",
    "        bin_number = \"0\" + bin_number\n",
    "\n",
    "    dna_code = replace_with_dna(bin_number)\n",
    "    vector_ = vectorize_s(dna_code)\n",
    "    class_pred = classifier.predict(vector_)\n",
    "    class_label = str(class_pred)\n",
    "\n",
    "    dna_label.config(text=\"Your encrypted DNA code: \" + dna_code + \"\\nFamily Number:\" + class_label)\n",
    "    \n",
    "import math\n",
    "import decimal\n",
    "\n",
    "def decrypt_dna():\n",
    "    dna_code = dna_label.cget(\"text\").split(\": \")[1].split(\"\\n\")[0]\n",
    "    binary_text = \"\"\n",
    "    for char in dna_code:\n",
    "        if char == \"A\":\n",
    "            binary_text += \"00\"\n",
    "        elif char == \"T\":\n",
    "            binary_text += \"01\"\n",
    "        elif char == \"G\":\n",
    "            binary_text += \"10\"\n",
    "        elif char == \"C\":\n",
    "            binary_text += \"11\"\n",
    "    \n",
    "    integer_number = int(binary_text, 2)\n",
    "    decimal.getcontext().prec = 100  # Set the precision\n",
    "    decimal_number = decimal.Decimal(integer_number)\n",
    "    coef_decimal = decimal.Decimal(regression_model.coef_.item())\n",
    "    intercept_decimal = decimal.Decimal(regression_model.intercept_.item())\n",
    "    inp_decimal = (decimal_number - intercept_decimal) / coef_decimal\n",
    "    inp_decimal = math.ceil(inp_decimal)\n",
    "    \n",
    "    ascii_text = str(inp_decimal)\n",
    "    \n",
    "    # Pad the string with leading zeros if needed\n",
    "    while len(ascii_text) % 3 != 0:\n",
    "        ascii_text = '0' + ascii_text\n",
    "\n",
    "    # Split the string into groups of three digits and reverse each group\n",
    "    reversed_str = ascii_text[::-1]\n",
    "\n",
    "    # Pad the string with leading zeros if the length is not divisible by 3\n",
    "    while len(reversed_str) % 3 != 0:\n",
    "        reversed_str += '0'\n",
    "\n",
    "    # Split the string into groups of three digits and reverse each group\n",
    "    groups = [int(reversed_str[i:i+3][::-1]) for i in range(0, len(reversed_str), 3)]\n",
    "\n",
    "    groups.reverse()\n",
    "    \n",
    "    original_text = from_ascii_list(groups)\n",
    "    \n",
    "    password_label.config(text=\"Your decrypted password: \" + original_text)\n",
    "    \n",
    "window = tk.Tk()\n",
    "window.title(\"DNA Encryption\")\n",
    "window.geometry(\"400x200\")\n",
    "\n",
    "label = tk.Label(window, text=\"Enter password:\")\n",
    "label.pack(pady=10)\n",
    "\n",
    "password_entry = tk.Entry(window, show=\"*\")\n",
    "password_entry.pack()\n",
    "\n",
    "encrypt_button = tk.Button(window, text=\"Encrypt and Predict Class\", command=encrypt_password)\n",
    "encrypt_button.pack(pady=10)\n",
    "\n",
    "dna_label = tk.Label(window, text=\"\")\n",
    "dna_label.pack()\n",
    "\n",
    "show_button = tk.Button(window, text=\"Decrypt Sequence\", command=decrypt_dna)\n",
    "show_button.pack(pady=10)\n",
    "\n",
    "password_label = tk.Label(window, text=\"\")\n",
    "password_label.pack()\n",
    "\n",
    "window.mainloop()"
   ]
  },
  {
   "cell_type": "code",
   "execution_count": 43,
   "id": "64e0a593",
   "metadata": {},
   "outputs": [],
   "source": [
    "datag = pd.read_csv('dna1_dataframe.csv')"
   ]
  },
  {
   "cell_type": "code",
   "execution_count": 44,
   "id": "f7223545",
   "metadata": {},
   "outputs": [
    {
     "data": {
      "text/plain": [
       "6663"
      ]
     },
     "execution_count": 44,
     "metadata": {},
     "output_type": "execute_result"
    }
   ],
   "source": [
    "len(datag)"
   ]
  },
  {
   "cell_type": "code",
   "execution_count": 45,
   "id": "f8f104ec",
   "metadata": {},
   "outputs": [
    {
     "data": {
      "text/plain": [
       "'123456'"
      ]
     },
     "execution_count": 45,
     "metadata": {},
     "output_type": "execute_result"
    }
   ],
   "source": [
    "listex4 = list(datag.iloc[:,1])\n",
    "listex3 = list(datag.iloc[:,0])\n",
    "listex3[0]"
   ]
  },
  {
   "cell_type": "code",
   "execution_count": 46,
   "id": "4a85a706",
   "metadata": {},
   "outputs": [
    {
     "data": {
      "text/plain": [
       "'010010111010001101110001001010011111'"
      ]
     },
     "execution_count": 46,
     "metadata": {},
     "output_type": "execute_result"
    }
   ],
   "source": [
    "totem=replace_with_binary_list(listex4)\n",
    "totem[0]"
   ]
  },
  {
   "cell_type": "code",
   "execution_count": 47,
   "id": "1db5ea63",
   "metadata": {},
   "outputs": [
    {
     "data": {
      "text/plain": [
       "20304040607"
      ]
     },
     "execution_count": 47,
     "metadata": {},
     "output_type": "execute_result"
    }
   ],
   "source": [
    "integ_list = [int(binary, 2) for binary in totem]\n",
    "integ_list[0]"
   ]
  },
  {
   "cell_type": "code",
   "execution_count": 48,
   "id": "ec1451a3",
   "metadata": {},
   "outputs": [],
   "source": [
    "def custom_encoding(character):\n",
    "    if character.isdigit():\n",
    "        return str(int(character) + 1).zfill(2)\n",
    "    elif 'a' <= character <= 'z':\n",
    "        return str(ord(character) - ord('a') + 11)\n",
    "    elif 'A' <= character <= 'Z':\n",
    "        return str(ord(character) - ord('A') + 37)\n",
    "    elif character in '~!@#$%^&*()-_+={}[]\\\\|:;\\\"\\'<>,./?`':\n",
    "        special_chars = '~!@#$%^&*()-_+={}[]\\\\|:;\\\"\\'<>,./?`'\n",
    "        return str(special_chars.index(character) + 63)\n",
    "    else:\n",
    "        return None"
   ]
  },
  {
   "cell_type": "code",
   "execution_count": 49,
   "id": "67644b64",
   "metadata": {},
   "outputs": [],
   "source": [
    "def encode_strings(string_list):\n",
    "    encoded_list = []\n",
    "    for i in string_list:\n",
    "        enc = ''.join(custom_encoding(char) for char in i)\n",
    "        encoded_list.append(enc)\n",
    "    return encoded_list"
   ]
  },
  {
   "cell_type": "code",
   "execution_count": 50,
   "id": "8d637755",
   "metadata": {},
   "outputs": [
    {
     "data": {
      "text/plain": [
       "'020304050607'"
      ]
     },
     "execution_count": 50,
     "metadata": {},
     "output_type": "execute_result"
    }
   ],
   "source": [
    "totem3=encode_strings(listex3)\n",
    "totem3[0]"
   ]
  },
  {
   "cell_type": "code",
   "execution_count": 51,
   "id": "c4056b0d",
   "metadata": {},
   "outputs": [
    {
     "data": {
      "text/plain": [
       "20304050607"
      ]
     },
     "execution_count": 51,
     "metadata": {},
     "output_type": "execute_result"
    }
   ],
   "source": [
    "b4=convert_to_int_list(totem3)\n",
    "b4[0]"
   ]
  },
  {
   "cell_type": "code",
   "execution_count": 52,
   "id": "9b7266d5",
   "metadata": {},
   "outputs": [],
   "source": [
    "fl_decimal_list = [float(num) for num in integ_list]\n",
    "fl_updated_list = [float(num) for num in b4]"
   ]
  },
  {
   "cell_type": "code",
   "execution_count": 53,
   "id": "65681a1b",
   "metadata": {},
   "outputs": [],
   "source": [
    "inf_decimal_list = np.isinf(fl_decimal_list)\n",
    "if np.any(inf_decimal_list):\n",
    "    print(\"Infinity values found in fl_decimal_list.\")\n",
    "\n",
    "inf_updated_list = np.isinf(fl_updated_list)\n",
    "if np.any(inf_updated_list):\n",
    "    print(\"Infinity values found in fl_updated_list.\")"
   ]
  },
  {
   "cell_type": "code",
   "execution_count": 54,
   "id": "35c0ceef",
   "metadata": {},
   "outputs": [],
   "source": [
    "scaler1 = StandardScaler()\n",
    "feat1_scaled = scaler1.fit_transform(np.array(fl_updated_list).reshape(-1, 1))\n",
    "feat2_scaled = scaler1.fit_transform(np.array(fl_decimal_list).reshape(-1, 1))"
   ]
  },
  {
   "cell_type": "code",
   "execution_count": 55,
   "id": "496e7f63",
   "metadata": {},
   "outputs": [
    {
     "data": {
      "text/html": [
       "<style>#sk-container-id-2 {color: black;background-color: white;}#sk-container-id-2 pre{padding: 0;}#sk-container-id-2 div.sk-toggleable {background-color: white;}#sk-container-id-2 label.sk-toggleable__label {cursor: pointer;display: block;width: 100%;margin-bottom: 0;padding: 0.3em;box-sizing: border-box;text-align: center;}#sk-container-id-2 label.sk-toggleable__label-arrow:before {content: \"▸\";float: left;margin-right: 0.25em;color: #696969;}#sk-container-id-2 label.sk-toggleable__label-arrow:hover:before {color: black;}#sk-container-id-2 div.sk-estimator:hover label.sk-toggleable__label-arrow:before {color: black;}#sk-container-id-2 div.sk-toggleable__content {max-height: 0;max-width: 0;overflow: hidden;text-align: left;background-color: #f0f8ff;}#sk-container-id-2 div.sk-toggleable__content pre {margin: 0.2em;color: black;border-radius: 0.25em;background-color: #f0f8ff;}#sk-container-id-2 input.sk-toggleable__control:checked~div.sk-toggleable__content {max-height: 200px;max-width: 100%;overflow: auto;}#sk-container-id-2 input.sk-toggleable__control:checked~label.sk-toggleable__label-arrow:before {content: \"▾\";}#sk-container-id-2 div.sk-estimator input.sk-toggleable__control:checked~label.sk-toggleable__label {background-color: #d4ebff;}#sk-container-id-2 div.sk-label input.sk-toggleable__control:checked~label.sk-toggleable__label {background-color: #d4ebff;}#sk-container-id-2 input.sk-hidden--visually {border: 0;clip: rect(1px 1px 1px 1px);clip: rect(1px, 1px, 1px, 1px);height: 1px;margin: -1px;overflow: hidden;padding: 0;position: absolute;width: 1px;}#sk-container-id-2 div.sk-estimator {font-family: monospace;background-color: #f0f8ff;border: 1px dotted black;border-radius: 0.25em;box-sizing: border-box;margin-bottom: 0.5em;}#sk-container-id-2 div.sk-estimator:hover {background-color: #d4ebff;}#sk-container-id-2 div.sk-parallel-item::after {content: \"\";width: 100%;border-bottom: 1px solid gray;flex-grow: 1;}#sk-container-id-2 div.sk-label:hover label.sk-toggleable__label {background-color: #d4ebff;}#sk-container-id-2 div.sk-serial::before {content: \"\";position: absolute;border-left: 1px solid gray;box-sizing: border-box;top: 0;bottom: 0;left: 50%;z-index: 0;}#sk-container-id-2 div.sk-serial {display: flex;flex-direction: column;align-items: center;background-color: white;padding-right: 0.2em;padding-left: 0.2em;position: relative;}#sk-container-id-2 div.sk-item {position: relative;z-index: 1;}#sk-container-id-2 div.sk-parallel {display: flex;align-items: stretch;justify-content: center;background-color: white;position: relative;}#sk-container-id-2 div.sk-item::before, #sk-container-id-2 div.sk-parallel-item::before {content: \"\";position: absolute;border-left: 1px solid gray;box-sizing: border-box;top: 0;bottom: 0;left: 50%;z-index: -1;}#sk-container-id-2 div.sk-parallel-item {display: flex;flex-direction: column;z-index: 1;position: relative;background-color: white;}#sk-container-id-2 div.sk-parallel-item:first-child::after {align-self: flex-end;width: 50%;}#sk-container-id-2 div.sk-parallel-item:last-child::after {align-self: flex-start;width: 50%;}#sk-container-id-2 div.sk-parallel-item:only-child::after {width: 0;}#sk-container-id-2 div.sk-dashed-wrapped {border: 1px dashed gray;margin: 0 0.4em 0.5em 0.4em;box-sizing: border-box;padding-bottom: 0.4em;background-color: white;}#sk-container-id-2 div.sk-label label {font-family: monospace;font-weight: bold;display: inline-block;line-height: 1.2em;}#sk-container-id-2 div.sk-label-container {text-align: center;}#sk-container-id-2 div.sk-container {/* jupyter's `normalize.less` sets `[hidden] { display: none; }` but bootstrap.min.css set `[hidden] { display: none !important; }` so we also need the `!important` here to be able to override the default hidden behavior on the sphinx rendered scikit-learn.org. See: https://github.com/scikit-learn/scikit-learn/issues/21755 */display: inline-block !important;position: relative;}#sk-container-id-2 div.sk-text-repr-fallback {display: none;}</style><div id=\"sk-container-id-2\" class=\"sk-top-container\"><div class=\"sk-text-repr-fallback\"><pre>LinearRegression()</pre><b>In a Jupyter environment, please rerun this cell to show the HTML representation or trust the notebook. <br />On GitHub, the HTML representation is unable to render, please try loading this page with nbviewer.org.</b></div><div class=\"sk-container\" hidden><div class=\"sk-item\"><div class=\"sk-estimator sk-toggleable\"><input class=\"sk-toggleable__control sk-hidden--visually\" id=\"sk-estimator-id-2\" type=\"checkbox\" checked><label for=\"sk-estimator-id-2\" class=\"sk-toggleable__label sk-toggleable__label-arrow\">LinearRegression</label><div class=\"sk-toggleable__content\"><pre>LinearRegression()</pre></div></div></div></div></div>"
      ],
      "text/plain": [
       "LinearRegression()"
      ]
     },
     "execution_count": 55,
     "metadata": {},
     "output_type": "execute_result"
    }
   ],
   "source": [
    "regression_model1 = LinearRegression()\n",
    "regression_model1.fit(feat1_scaled, feat2_scaled)"
   ]
  },
  {
   "cell_type": "code",
   "execution_count": 56,
   "id": "40f4179d",
   "metadata": {},
   "outputs": [
    {
     "name": "stdout",
     "output_type": "stream",
     "text": [
      "Coefficient: [[1.]]\n",
      "\n",
      "Intercept: [6.16297582e-33]\n"
     ]
    }
   ],
   "source": [
    "coefficients1 = regression_model1.coef_\n",
    "intercepts1 = regression_model1.intercept_\n",
    "print(\"Coefficient:\", coefficients1)\n",
    "print(\"\\nIntercept:\", intercepts1)"
   ]
  },
  {
   "cell_type": "code",
   "execution_count": 57,
   "id": "6345c759",
   "metadata": {},
   "outputs": [],
   "source": [
    "def custom_encoding(character):\n",
    "    if character.isdigit():\n",
    "        return str(int(character) + 1).zfill(2)\n",
    "    elif 'a' <= character <= 'z':\n",
    "        return str(ord(character) - ord('a') + 11)\n",
    "    elif 'A' <= character <= 'Z':\n",
    "        return str(ord(character) - ord('A') + 37)\n",
    "    elif character in '~!@#$%^&*()-_+={}[]\\\\|:;\\\"\\'<>,./?`':\n",
    "        special_chars = '~!@#$%^&*()-_+={}[]\\\\|:;\\\"\\'<>,./?`'\n",
    "        return str(special_chars.index(character) + 63)\n",
    "    else:\n",
    "        return None\n",
    "\n",
    "def custom_decoding(encoding):\n",
    "    encoding = int(encoding)\n",
    "    if 1 <= encoding <= 10:\n",
    "        return str(encoding - 1)\n",
    "    elif 11 <= encoding <= 36:\n",
    "        return chr(encoding - 11 + ord('a'))\n",
    "    elif 37 <= encoding <= 62:\n",
    "        return chr(encoding - 37 + ord('A'))\n",
    "    elif 63 <= encoding <= 94:\n",
    "        special_chars = '~!@#$%^&*()-_+={}[]\\\\|:;\\\"\\'<>,./?`'\n",
    "        return special_chars[encoding - 63]\n",
    "    else:\n",
    "        return ''\n",
    "    \n",
    "def decode_text(encoded_text):\n",
    "    decoded_text = ''.join(custom_decoding(encoded_text[i:i+2]) for i in range(0, len(encoded_text), 2))\n",
    "    return decoded_text\n",
    "\n",
    "def my_A(text):\n",
    "    ascii_text = \"\"\n",
    "    encoded_text = ''.join(custom_encoding(char) for char in text)\n",
    "    return encoded_text\n",
    "\n",
    "def predict(p_data):\n",
    "    pred_value = regression_model1.predict(p_data)\n",
    "    return pred_value\n",
    "\n",
    "def replace_with_dna(text): \n",
    "    dna_text = \"\"\n",
    "    i = 0\n",
    "    while i < len(text):\n",
    "        chunk = text[i:i+2]\n",
    "        if chunk == \"00\":\n",
    "            dna_text += \"A\"\n",
    "        elif chunk == \"01\":\n",
    "            dna_text += \"T\"\n",
    "        elif chunk == \"10\":\n",
    "            dna_text += \"G\"\n",
    "        elif chunk == \"11\":\n",
    "            dna_text += \"C\"\n",
    "        i += 2\n",
    "    return dna_text\n",
    "\n",
    "def encrypt_password(password_list):\n",
    "    new_list = []\n",
    "    for password in password_list:\n",
    "        ascii_text = my_A(password)\n",
    "        ascii_text = int(ascii_text)\n",
    "        ascii_text = np.array(ascii_text).reshape(-1, 1)# Convert to 2D array\n",
    "\n",
    "        predicted_y = predict(ascii_text)\n",
    "        predicted_scalar = predicted_y.item()  # Get scalar value from NumPy array\n",
    "\n",
    "        number_str = str(predicted_scalar)\n",
    "        float_number = float(number_str)\n",
    "        integer_number = int(float_number)\n",
    "\n",
    "        bin_number = bin(integer_number)[2:]\n",
    "\n",
    "        if len(bin_number) % 2 != 0:\n",
    "            bin_number = \"0\" + bin_number\n",
    "\n",
    "        dna_code = replace_with_dna(bin_number)\n",
    "        new_list.append(dna_code)\n",
    "\n",
    "    return new_list\n",
    "    \n",
    "import math\n",
    "import decimal\n",
    "\n",
    "def decrypt_dna(new_list):\n",
    "    some_list = []\n",
    "    for dna_code in new_list:\n",
    "        binary_text = \"\"\n",
    "        for char in dna_code:\n",
    "            if char == \"A\":\n",
    "                binary_text += \"00\"\n",
    "            elif char == \"T\":\n",
    "                binary_text += \"01\"\n",
    "            elif char == \"G\":\n",
    "                binary_text += \"10\"\n",
    "            elif char == \"C\":\n",
    "                binary_text += \"11\"\n",
    "    \n",
    "        integer_number = int(binary_text, 2)\n",
    "        decimal.getcontext().prec = 100  # Set the precision\n",
    "        decimal_number = decimal.Decimal(integer_number)\n",
    "        coef_decimal = decimal.Decimal(regression_model1.coef_.item())\n",
    "        intercept_decimal = decimal.Decimal(regression_model1.intercept_.item())\n",
    "        inp_decimal = (decimal_number - intercept_decimal) / coef_decimal\n",
    "        inp_decimal = math.ceil(inp_decimal)\n",
    "    \n",
    "        ascii_text = str(inp_decimal)\n",
    "        original_text = decode_text(ascii_text)\n",
    "        some_list.append(original_text)\n",
    "    return some_list"
   ]
  },
  {
   "cell_type": "code",
   "execution_count": 58,
   "id": "7c9095fe",
   "metadata": {},
   "outputs": [],
   "source": [
    "free_list1 = encrypt_password(listex3)"
   ]
  },
  {
   "cell_type": "code",
   "execution_count": 59,
   "id": "780a256b",
   "metadata": {},
   "outputs": [
    {
     "name": "stdout",
     "output_type": "stream",
     "text": [
      "Accuracy:  90.75491520336185 %\n"
     ]
    }
   ],
   "source": [
    "c=0\n",
    "free2_list = decrypt_dna(free_list1)\n",
    "for i in range(len(listex3)):\n",
    "    if listex3[i] == free2_list[i]:\n",
    "        c = c + 1\n",
    "print(\"Accuracy: \", c/len(datag) * 100, \"%\")"
   ]
  },
  {
   "cell_type": "code",
   "execution_count": 60,
   "id": "1f4ebf4d",
   "metadata": {},
   "outputs": [],
   "source": [
    "import tkinter as tk\n",
    "\n",
    "def custom_encoding(character):\n",
    "    if character.isdigit():\n",
    "        return str(int(character) + 1).zfill(2)\n",
    "    elif 'a' <= character <= 'z':\n",
    "        return str(ord(character) - ord('a') + 11)\n",
    "    elif 'A' <= character <= 'Z':\n",
    "        return str(ord(character) - ord('A') + 37)\n",
    "    elif character in '~!@#$%^&*()-_+={}[]\\\\|:;\\\"\\'<>,./?`':\n",
    "        special_chars = '~!@#$%^&*()-_+={}[]\\\\|:;\\\"\\'<>,./?`'\n",
    "        return str(special_chars.index(character) + 63)\n",
    "    else:\n",
    "        return None\n",
    "\n",
    "def custom_decoding(encoding):\n",
    "    encoding = int(encoding)\n",
    "    if 1 <= encoding <= 10:\n",
    "        return str(encoding - 1)\n",
    "    elif 11 <= encoding <= 36:\n",
    "        return chr(encoding - 11 + ord('a'))\n",
    "    elif 37 <= encoding <= 62:\n",
    "        return chr(encoding - 37 + ord('A'))\n",
    "    elif 63 <= encoding <= 94:\n",
    "        special_chars = '~!@#$%^&*()-_+={}[]\\\\|:;\\\"\\'<>,./?`'\n",
    "        return special_chars[encoding - 63]\n",
    "    else:\n",
    "        return ''\n",
    "    \n",
    "def decode_text(encoded_text):\n",
    "    decoded_text = ''.join(custom_decoding(encoded_text[i:i+2]) for i in range(0, len(encoded_text), 2))\n",
    "    return decoded_text\n",
    "\n",
    "def my_A(text):\n",
    "    ascii_text = \"\"\n",
    "    encoded_text = ''.join(custom_encoding(char) for char in text)\n",
    "    return encoded_text\n",
    "\n",
    "def predict(p_data):\n",
    "    pred_value = regression_model1.predict(p_data)\n",
    "    return pred_value\n",
    "\n",
    "def vectorize_s(mydna):\n",
    "    dna_texts = getKmers(mydna)\n",
    "    hdna_texts = ' '.join(dna_texts)\n",
    "    Xz = cv.transform([hdna_texts])\n",
    "    return Xz\n",
    "\n",
    "def replace_with_dna(text): \n",
    "    dna_text = \"\"\n",
    "    i = 0\n",
    "    while i < len(text):\n",
    "        chunk = text[i:i+2]\n",
    "        if chunk == \"00\":\n",
    "            dna_text += \"A\"\n",
    "        elif chunk == \"01\":\n",
    "            dna_text += \"T\"\n",
    "        elif chunk == \"10\":\n",
    "            dna_text += \"G\"\n",
    "        elif chunk == \"11\":\n",
    "            dna_text += \"C\"\n",
    "        i += 2\n",
    "    return dna_text\n",
    "\n",
    "def encrypt_password():\n",
    "    password = password_entry.get()\n",
    "    ascii_text = my_A(password)\n",
    "    ascii_text = int(ascii_text)\n",
    "    ascii_text = np.array(ascii_text).reshape(-1, 1)# Convert to 2D array\n",
    "\n",
    "    predicted_y = predict(ascii_text)\n",
    "    predicted_scalar = predicted_y.item()  # Get scalar value from NumPy array\n",
    "\n",
    "    number_str = str(predicted_scalar)\n",
    "    float_number = float(number_str)\n",
    "    integer_number = int(float_number)\n",
    "\n",
    "    bin_number = bin(integer_number)[2:]\n",
    "\n",
    "    if len(bin_number) % 2 != 0:\n",
    "        bin_number = \"0\" + bin_number\n",
    "\n",
    "    dna_code = replace_with_dna(bin_number)\n",
    "    vector_ = vectorize_s(dna_code)\n",
    "    class_pred = classifier.predict(vector_)\n",
    "    class_label = str(class_pred)\n",
    "    dna_label.config(text=\"Your encrypted DNA code: \" + dna_code + \"\\nSequence belongs to family: \" + class_label)\n",
    "    \n",
    "import math\n",
    "import decimal\n",
    "\n",
    "def decrypt_dna():\n",
    "    dna_code = dna_label.cget(\"text\").split(\": \")[1].split(\"\\n\")[0]\n",
    "    binary_text = \"\"\n",
    "    for char in dna_code:\n",
    "        if char == \"A\":\n",
    "            binary_text += \"00\"\n",
    "        elif char == \"T\":\n",
    "            binary_text += \"01\"\n",
    "        elif char == \"G\":\n",
    "            binary_text += \"10\"\n",
    "        elif char == \"C\":\n",
    "            binary_text += \"11\"\n",
    "    \n",
    "    integer_number = int(binary_text, 2)\n",
    "    decimal.getcontext().prec = 100  # Set the precision\n",
    "    decimal_number = decimal.Decimal(integer_number)\n",
    "    coef_decimal = decimal.Decimal(regression_model1.coef_.item())\n",
    "    intercept_decimal = decimal.Decimal(regression_model.intercept_.item())\n",
    "    inp_decimal = (decimal_number - intercept_decimal) / coef_decimal\n",
    "    inp_decimal = math.ceil(inp_decimal)\n",
    "    \n",
    "    ascii_text = str(inp_decimal)\n",
    "    original_text = decode_text(ascii_text)\n",
    "    password_label.config(text=\"Your decrypted password: \" + original_text)\n",
    "\n",
    "window = tk.Tk()\n",
    "window.title(\"DNA Encryption\")\n",
    "window.geometry(\"400x200\")\n",
    "\n",
    "label = tk.Label(window, text=\"Enter password of length <= 7 char :\")\n",
    "label.pack(pady=10)\n",
    "\n",
    "password_entry = tk.Entry(window, show=\"*\")\n",
    "password_entry.pack()\n",
    "\n",
    "encrypt_button = tk.Button(window, text=\"Encrypt Password and Find it's family\", command=encrypt_password)\n",
    "encrypt_button.pack(pady=10)\n",
    "\n",
    "dna_label = tk.Label(window, text=\"\")\n",
    "dna_label.pack()\n",
    "\n",
    "show_button = tk.Button(window, text=\"Decrypt Sequence\", command=decrypt_dna)\n",
    "show_button.pack(pady=10)\n",
    "\n",
    "password_label = tk.Label(window, text=\"\")\n",
    "password_label.pack()\n",
    "\n",
    "window.mainloop()"
   ]
  },
  {
   "cell_type": "code",
   "execution_count": 61,
   "id": "9b294b88",
   "metadata": {},
   "outputs": [],
   "source": [
    "import tkinter as tk\n",
    "from tkinter import messagebox\n",
    "from tkinter.font import Font\n",
    "\n",
    "def login():\n",
    "    password = password_entry.get()\n",
    "    family_number = number_entry.get()\n",
    "\n",
    "    if password == \"rook1@_\" and family_number == \"5\":\n",
    "        messagebox.showinfo(\"Success\", \"Welcome!\")\n",
    "    elif password != \"rook1@_\" and family_number == \"5\":\n",
    "        messagebox.showerror(\"Error\", \"Incorrect password!\")\n",
    "    elif password == \"rook1@_\" and family_number != \"5\":\n",
    "        messagebox.showerror(\"Error\", \"Incorrect family number!\")\n",
    "    else:\n",
    "        messagebox.showerror(\"Error\", \"Incorrect password and family number!\")\n",
    "\n",
    "root = tk.Tk()\n",
    "root.title(\"Family Group\")\n",
    "root.geometry(\"300x200\")\n",
    "\n",
    "bold_font = Font(family=\"Helvetica\", size=12, weight=\"bold\")\n",
    "\n",
    "bold_label = tk.Label(root, text=\"Group ABC\", font=bold_font)\n",
    "bold_label.pack(pady=10)\n",
    "\n",
    "# Create the note label\n",
    "note_label = tk.Label(root, text=\"To enter, please enter password and family number.\")\n",
    "note_label.pack()\n",
    "\n",
    "# Create the password label and entry field\n",
    "password_label = tk.Label(root, text=\"Password:\")\n",
    "password_label.pack(pady=5)\n",
    "password_entry = tk.Entry(root, show=\"*\")  # Show asterisks instead of plain text\n",
    "password_entry.pack()\n",
    "\n",
    "# Create the number label and entry field\n",
    "number_label = tk.Label(root, text=\"Number:\")\n",
    "number_label.pack(pady=5)\n",
    "number_entry = tk.Entry(root)\n",
    "number_entry.pack()\n",
    "\n",
    "login_button = tk.Button(root, text=\"Login\", command=login)\n",
    "login_button.pack(pady=10)\n",
    "\n",
    "root.mainloop()"
   ]
  },
  {
   "cell_type": "code",
   "execution_count": 62,
   "id": "5da78313",
   "metadata": {},
   "outputs": [
    {
     "data": {
      "text/html": [
       "<div>\n",
       "<style scoped>\n",
       "    .dataframe tbody tr th:only-of-type {\n",
       "        vertical-align: middle;\n",
       "    }\n",
       "\n",
       "    .dataframe tbody tr th {\n",
       "        vertical-align: top;\n",
       "    }\n",
       "\n",
       "    .dataframe thead th {\n",
       "        text-align: right;\n",
       "    }\n",
       "</style>\n",
       "<table border=\"1\" class=\"dataframe\">\n",
       "  <thead>\n",
       "    <tr style=\"text-align: right;\">\n",
       "      <th></th>\n",
       "      <th>sequence</th>\n",
       "      <th>class</th>\n",
       "    </tr>\n",
       "  </thead>\n",
       "  <tbody>\n",
       "    <tr>\n",
       "      <th>0</th>\n",
       "      <td>ATGCCCCAACTAAATACTACCGTATGGCCCACCATAATTACCCCCA...</td>\n",
       "      <td>4</td>\n",
       "    </tr>\n",
       "    <tr>\n",
       "      <th>1</th>\n",
       "      <td>ATGAACGAAAATCTGTTCGCTTCATTCATTGCCCCCACAATCCTAG...</td>\n",
       "      <td>4</td>\n",
       "    </tr>\n",
       "    <tr>\n",
       "      <th>2</th>\n",
       "      <td>ATGTGTGGCATTTGGGCGCTGTTTGGCAGTGATGATTGCCTTTCTG...</td>\n",
       "      <td>3</td>\n",
       "    </tr>\n",
       "    <tr>\n",
       "      <th>3</th>\n",
       "      <td>ATGTGTGGCATTTGGGCGCTGTTTGGCAGTGATGATTGCCTTTCTG...</td>\n",
       "      <td>3</td>\n",
       "    </tr>\n",
       "    <tr>\n",
       "      <th>4</th>\n",
       "      <td>ATGCAACAGCATTTTGAATTTGAATACCAGACCAAAGTGGATGGTG...</td>\n",
       "      <td>3</td>\n",
       "    </tr>\n",
       "  </tbody>\n",
       "</table>\n",
       "</div>"
      ],
      "text/plain": [
       "                                            sequence  class\n",
       "0  ATGCCCCAACTAAATACTACCGTATGGCCCACCATAATTACCCCCA...      4\n",
       "1  ATGAACGAAAATCTGTTCGCTTCATTCATTGCCCCCACAATCCTAG...      4\n",
       "2  ATGTGTGGCATTTGGGCGCTGTTTGGCAGTGATGATTGCCTTTCTG...      3\n",
       "3  ATGTGTGGCATTTGGGCGCTGTTTGGCAGTGATGATTGCCTTTCTG...      3\n",
       "4  ATGCAACAGCATTTTGAATTTGAATACCAGACCAAAGTGGATGGTG...      3"
      ]
     },
     "execution_count": 62,
     "metadata": {},
     "output_type": "execute_result"
    }
   ],
   "source": [
    "human_data1 = pd.read_table('human.txt')\n",
    "human_data1.head()"
   ]
  },
  {
   "cell_type": "code",
   "execution_count": 63,
   "id": "91fe7cda",
   "metadata": {},
   "outputs": [
    {
     "data": {
      "text/plain": [
       "1000"
      ]
     },
     "execution_count": 63,
     "metadata": {},
     "output_type": "execute_result"
    }
   ],
   "source": [
    "listz=list(human_data1.iloc[:1000,0])\n",
    "len(listz)"
   ]
  },
  {
   "cell_type": "code",
   "execution_count": 64,
   "id": "2530c0d2",
   "metadata": {},
   "outputs": [
    {
     "name": "stdout",
     "output_type": "stream",
     "text": [
      "('QVRHQ0NDQ0FBQ1RBQUFUQUNUQUNDR1RBVEdHQ0NDQUNDQVRBQVRUQUNDQ0NDQVRBQ1RDQ1RUQUNBQ1RBVFRDQ1RDQVRDQUNDQ0FBQ1RBQUFBQVRBVFRBQUFDQUNBQUFDVEFDQ0FDQ1RBQ0NUQ0NDVENBQ0NBQUFHQ0NDQVRBQUFBQVRBQUFBQUFUVEFUQUFDQUFBQ0NDVEdBR0FBQ0NBQUFBVEdBQUNHQUFBQVRDVEdUVENHQ1RUQ0FUVENBVFRHQ0NDQ0NBQ0FBVENDVEFH', 'wn8Tj5SytfM')\n",
      "ATGCCCCAACTAAATACTACCGTATGGCCCACCATAATTACCCCCATACTCCTTACACTATTCCTCATCACCCAACTAAAAATATTAAACACAAACTACCACCTACCTCCCTCACCAAAGCCCATAAAAATAAAAAATTATAACAAACCCTGAGAACCAAAATGAACGAAAATCTGTTCGCTTCATTCATTGCCCCCACAATCCTAG\n"
     ]
    }
   ],
   "source": [
    "import base64\n",
    "import random\n",
    "import string\n",
    "\n",
    "def encode_dna_sequences(dna_sequences):\n",
    "    encoded_passwords = []\n",
    "    \n",
    "    for dna_sequence in dna_sequences:\n",
    "        # Encode DNA sequence using Base64\n",
    "        encoded_string = base64.b64encode(dna_sequence.encode('utf-8')).decode('utf-8')\n",
    "        \n",
    "        # Generate a random password of length between 10 and 15\n",
    "        password_length = random.randint(10, 15)\n",
    "        password = ''.join(random.choices(string.ascii_letters + string.digits, k=password_length))\n",
    "        \n",
    "        # Append the encoded string-password pair to the list\n",
    "        encoded_passwords.append((encoded_string, password))\n",
    "    \n",
    "    return encoded_passwords\n",
    "\n",
    "def decode_passwords(encoded_passwords):\n",
    "    decoded_sequences = []\n",
    "    \n",
    "    for encoded_password, _ in encoded_passwords:\n",
    "        # Decode the Base64 string to retrieve the original DNA sequence\n",
    "        decoded_sequence = base64.b64decode(encoded_password).decode('utf-8')\n",
    "        \n",
    "        # Append the decoded DNA sequence to the list\n",
    "        decoded_sequences.append(decoded_sequence)\n",
    "    \n",
    "    return decoded_sequences\n",
    "\n",
    "# Generate a sample DNA sequence dataset\n",
    "dna_sequences = listz  # Replace with your actual DNA sequences\n",
    "\n",
    "# Encode DNA sequences into passwords\n",
    "encoded_passwords = encode_dna_sequences(dna_sequences)\n",
    "decoded = decode_passwords(encoded_passwords)\n",
    "\n",
    "print(encoded_passwords[0])\n",
    "\n",
    "print(decoded[0])"
   ]
  },
  {
   "cell_type": "code",
   "execution_count": 65,
   "id": "535be7fd",
   "metadata": {
    "scrolled": true
   },
   "outputs": [
    {
     "name": "stdout",
     "output_type": "stream",
     "text": [
      "Epoch 1/3\n",
      "25/25 [==============================] - 1633s 66s/step - loss: 0.9900 - accuracy: 0.8012 - val_loss: 0.7293 - val_accuracy: 0.8211\n",
      "Epoch 2/3\n",
      "25/25 [==============================] - 873s 35s/step - loss: 0.6900 - accuracy: 0.8328 - val_loss: 0.7198 - val_accuracy: 0.8211\n",
      "Epoch 3/3\n",
      "25/25 [==============================] - 1887s 77s/step - loss: 0.6857 - accuracy: 0.8328 - val_loss: 0.7184 - val_accuracy: 0.8211\n",
      "7/7 [==============================] - 25s 4s/step - loss: 0.7184 - accuracy: 0.8211\n",
      "Accuracy: 0.8211365342140198\n"
     ]
    }
   ],
   "source": [
    "import numpy as np\n",
    "import tensorflow as tf\n",
    "from sklearn.model_selection import train_test_split\n",
    "\n",
    "# Preprocessing\n",
    "passwords = [password for encoded_password, password in encoded_passwords]\n",
    "cleaned_passwords = [\"\".join(filter(str.isalpha, password)) for password in passwords]\n",
    "\n",
    "# Convert characters to unique integers\n",
    "password_tokenizer = tf.keras.preprocessing.text.Tokenizer(char_level=True)\n",
    "password_tokenizer.fit_on_texts(cleaned_passwords)\n",
    "password_sequences = password_tokenizer.texts_to_sequences(cleaned_passwords)\n",
    "\n",
    "sequence_tokenizer = tf.keras.preprocessing.text.Tokenizer(char_level=True)\n",
    "sequence_tokenizer.fit_on_texts(dna_sequences)\n",
    "sequence_sequences = sequence_tokenizer.texts_to_sequences(dna_sequences)\n",
    "\n",
    "# Pad sequences to have equal length\n",
    "max_password_length = max(len(seq) for seq in password_sequences)\n",
    "max_sequence_length = max(len(seq) for seq in sequence_sequences)\n",
    "\n",
    "password_sequences = tf.keras.preprocessing.sequence.pad_sequences(password_sequences, maxlen=max_password_length)\n",
    "sequence_sequences = tf.keras.preprocessing.sequence.pad_sequences(sequence_sequences, maxlen=max_sequence_length)\n",
    "\n",
    "# Split the data into training and testing sets\n",
    "X_train, X_test, y_train, y_test = train_test_split(password_sequences, sequence_sequences, test_size=0.2, random_state=42)\n",
    "\n",
    "# Define the model architecture\n",
    "model = tf.keras.Sequential([\n",
    "    tf.keras.layers.Embedding(len(password_tokenizer.word_index) + 1, 100, input_length=max_password_length),\n",
    "    tf.keras.layers.LSTM(128),\n",
    "    tf.keras.layers.RepeatVector(max_sequence_length),\n",
    "    tf.keras.layers.LSTM(128, return_sequences=True),\n",
    "    tf.keras.layers.Dense(len(sequence_tokenizer.word_index) + 1, activation='softmax')\n",
    "])\n",
    "\n",
    "# Compile the model\n",
    "model.compile(optimizer='adam', loss='sparse_categorical_crossentropy', metrics=['accuracy'])\n",
    "\n",
    "# Train the model\n",
    "model.fit(X_train, y_train, epochs=3, batch_size=32, validation_data=(X_test, y_test))\n",
    "\n",
    "# Evaluate the model\n",
    "loss, accuracy = model.evaluate(X_test, y_test)\n",
    "print(\"Accuracy:\", accuracy)"
   ]
  },
  {
   "cell_type": "code",
   "execution_count": 66,
   "id": "78a7e75e",
   "metadata": {},
   "outputs": [
    {
     "name": "stdout",
     "output_type": "stream",
     "text": [
      "Epoch 1/3\n",
      "25/25 [==============================] - 1953s 77s/step - loss: 0.6860 - accuracy: 0.8328 - val_loss: 0.7178 - val_accuracy: 0.8211\n",
      "Epoch 2/3\n",
      "25/25 [==============================] - 1108s 45s/step - loss: 0.6840 - accuracy: 0.8328 - val_loss: 0.7176 - val_accuracy: 0.8211\n",
      "Epoch 3/3\n",
      "25/25 [==============================] - 1006s 40s/step - loss: 0.6849 - accuracy: 0.8328 - val_loss: 0.7195 - val_accuracy: 0.8211\n"
     ]
    },
    {
     "data": {
      "image/png": "[encoded data removed]",
      "text/plain": [
       "<Figure size 640x480 with 1 Axes>"
      ]
     },
     "metadata": {},
     "output_type": "display_data"
    }
   ],
   "source": [
    "import matplotlib.pyplot as plt\n",
    "\n",
    "# Train the model and store the training/validation accuracy history\n",
    "history = model.fit(X_train, y_train, epochs=3, batch_size=32, validation_data=(X_test, y_test))\n",
    "\n",
    "# Get the accuracy values from the history\n",
    "training_accuracy = history.history['accuracy']\n",
    "validation_accuracy = history.history['val_accuracy']\n",
    "\n",
    "# Plot the accuracy graph\n",
    "epochs = range(1, len(training_accuracy) + 1)\n",
    "plt.plot(epochs, training_accuracy, 'b', label='Training Accuracy')\n",
    "plt.plot(epochs, validation_accuracy, 'r', label='Validation Accuracy')\n",
    "plt.title('Training and Validation Accuracy')\n",
    "plt.xlabel('Epochs')\n",
    "plt.ylabel('Accuracy')\n",
    "plt.legend()\n",
    "plt.yticks([i/10 for i in range(11)])\n",
    "plt.show()"
   ]
  },
  {
   "cell_type": "code",
   "execution_count": null,
   "id": "d87a6bd4",
   "metadata": {},
   "outputs": [],
   "source": []
  }
 ],
 "metadata": {
  "kernelspec": {
   "display_name": "Python 3 (ipykernel)",
   "language": "python",
   "name": "python3"
  },
  "language_info": {
   "codemirror_mode": {
    "name": "ipython",
    "version": 3
   },
   "file_extension": ".py",
   "mimetype": "text/x-python",
   "name": "python",
   "nbconvert_exporter": "python",
   "pygments_lexer": "ipython3",
   "version": "3.11.3"
  }
 },
 "nbformat": 4,
 "nbformat_minor": 5
}
